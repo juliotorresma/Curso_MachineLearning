{
  "nbformat": 4,
  "nbformat_minor": 0,
  "metadata": {
    "colab": {
      "name": "K-Vecinos.ipynb",
      "provenance": [],
      "authorship_tag": "ABX9TyOAdwd56X9VcwgJheVRwlCd",
      "include_colab_link": true
    },
    "kernelspec": {
      "name": "python3",
      "display_name": "Python 3"
    },
    "language_info": {
      "name": "python"
    }
  },
  "cells": [
    {
      "cell_type": "markdown",
      "metadata": {
        "id": "view-in-github",
        "colab_type": "text"
      },
      "source": [
        "<a href=\"https://colab.research.google.com/github/juliotorresma/Curso_MachineLearning/blob/main/K_Vecinos.ipynb\" target=\"_parent\"><img src=\"https://colab.research.google.com/assets/colab-badge.svg\" alt=\"Open In Colab\"/></a>"
      ]
    },
    {
      "cell_type": "code",
      "metadata": {
        "id": "HSwBqW-1xMhI"
      },
      "source": [
        "import numpy as np\n",
        "import pandas\n",
        "import matplotlib.pyplot as plt\n",
        "from sklearn.model_selection import train_test_split\n",
        "from sklearn.metrics import accuracy_score,confusion_matrix\n",
        "from sklearn.neighbors import KNeighborsClassifier\n",
        "from sklearn.datasets import load_iris\n",
        "import scipy"
      ],
      "execution_count": 22,
      "outputs": []
    },
    {
      "cell_type": "code",
      "metadata": {
        "colab": {
          "base_uri": "https://localhost:8080/"
        },
        "id": "oRYVsk4sxkV4",
        "outputId": "a1b7d300-1373-49c8-c5f7-64b3b6e65238"
      },
      "source": [
        "data = load_iris()\n",
        "X,Y = load_iris(return_X_y=True)\n",
        "\n",
        "print(data.feature_names)\n",
        "print(data.target_names)\n",
        "print(X[:10])\n",
        "print(Y[:10])"
      ],
      "execution_count": 23,
      "outputs": [
        {
          "output_type": "stream",
          "text": [
            "['sepal length (cm)', 'sepal width (cm)', 'petal length (cm)', 'petal width (cm)']\n",
            "['setosa' 'versicolor' 'virginica']\n",
            "[[5.1 3.5 1.4 0.2]\n",
            " [4.9 3.  1.4 0.2]\n",
            " [4.7 3.2 1.3 0.2]\n",
            " [4.6 3.1 1.5 0.2]\n",
            " [5.  3.6 1.4 0.2]\n",
            " [5.4 3.9 1.7 0.4]\n",
            " [4.6 3.4 1.4 0.3]\n",
            " [5.  3.4 1.5 0.2]\n",
            " [4.4 2.9 1.4 0.2]\n",
            " [4.9 3.1 1.5 0.1]]\n",
            "[0 0 0 0 0 0 0 0 0 0]\n"
          ],
          "name": "stdout"
        }
      ]
    },
    {
      "cell_type": "code",
      "metadata": {
        "colab": {
          "base_uri": "https://localhost:8080/",
          "height": 279
        },
        "id": "00TwyUusyCWp",
        "outputId": "96104a12-7c72-41ab-815e-3abc4ec2b0a1"
      },
      "source": [
        "i = 1\n",
        "j = 2\n",
        "\n",
        "plt.figure()\n",
        "plt.plot(X[Y==0,i],X[Y==0,j],\".\")\n",
        "plt.plot(X[Y==1,i],X[Y==1,j],\".\")\n",
        "plt.plot(X[Y==1,i],X[Y==1,j],\".\")\n",
        "\n",
        "plt.xlabel(data.feature_names[i])\n",
        "plt.ylabel(data.feature_names[j])\n",
        "plt.show()\n"
      ],
      "execution_count": 24,
      "outputs": [
        {
          "output_type": "display_data",
          "data": {
            "image/png": "[encoded data removed]",
            "text/plain": [
              "<Figure size 432x288 with 1 Axes>"
            ]
          },
          "metadata": {
            "tags": [],
            "needs_background": "light"
          }
        }
      ]
    },
    {
      "cell_type": "code",
      "metadata": {
        "colab": {
          "base_uri": "https://localhost:8080/"
        },
        "id": "N8ZXMbZ-yyva",
        "outputId": "27b26a3e-8344-4b06-c0f5-5b5a83eab350"
      },
      "source": [
        "Xtrain, Xtest, ytrain, ytest = train_test_split(X,Y,  test_size = .50,  random_state = 42)\n",
        "\n",
        "print(\"X\",X.shape)\n",
        "print(\"Xtrain\",Xtrain.shape)\n",
        "print(\"Xtest\",Xtest.shape)"
      ],
      "execution_count": 25,
      "outputs": [
        {
          "output_type": "stream",
          "text": [
            "X (150, 4)\n",
            "Xtrain (75, 4)\n",
            "Xtest (75, 4)\n"
          ],
          "name": "stdout"
        }
      ]
    },
    {
      "cell_type": "code",
      "metadata": {
        "colab": {
          "base_uri": "https://localhost:8080/"
        },
        "id": "B-CLmz1dz1Q1",
        "outputId": "c118d576-e582-4438-c641-c838d5f46414"
      },
      "source": [
        "model = KNeighborsClassifier(n_neighbors=5)\n",
        "model.fit(Xtrain,ytrain)\n",
        "\n",
        "prediccion = model.predict(Xtest)\n",
        "\n",
        "print(\"Accuracy\", accuracy_score(prediccion,ytest))\n",
        "print(confusion_matrix(prediccion,ytest))"
      ],
      "execution_count": 26,
      "outputs": [
        {
          "output_type": "stream",
          "text": [
            "Accuracy 0.9466666666666667\n",
            "[[29  0  0]\n",
            " [ 0 23  4]\n",
            " [ 0  0 19]]\n"
          ],
          "name": "stdout"
        }
      ]
    },
    {
      "cell_type": "markdown",
      "metadata": {
        "id": "7VZt4ZN00qID"
      },
      "source": [
        "# **Tarea moral:**\n",
        "\n",
        "## **Aplciar KNeighbors a Dataset de BreastCancer**"
      ]
    },
    {
      "cell_type": "markdown",
      "metadata": {
        "id": "hCDDcfgL0qO2"
      },
      "source": [
        ""
      ]
    }
  ]
}