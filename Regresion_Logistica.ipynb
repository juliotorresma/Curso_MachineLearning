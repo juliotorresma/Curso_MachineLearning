{
  "nbformat": 4,
  "nbformat_minor": 0,
  "metadata": {
    "colab": {
      "name": "Regresion-Logistica.ipynb",
      "provenance": [],
      "authorship_tag": "ABX9TyOUVJkKBBPx0GT13kT4IrfO",
      "include_colab_link": true
    },
    "kernelspec": {
      "name": "python3",
      "display_name": "Python 3"
    },
    "language_info": {
      "name": "python"
    }
  },
  "cells": [
    {
      "cell_type": "markdown",
      "metadata": {
        "id": "view-in-github",
        "colab_type": "text"
      },
      "source": [
        "<a href=\"https://colab.research.google.com/github/juliotorresma/Curso_MachineLearning/blob/main/Regresion_Logistica.ipynb\" target=\"_parent\"><img src=\"https://colab.research.google.com/assets/colab-badge.svg\" alt=\"Open In Colab\"/></a>"
      ]
    },
    {
      "cell_type": "code",
      "metadata": {
        "id": "KgqGLyfOcBuM"
      },
      "source": [
        "import numpy as np\n",
        "import pandas\n",
        "import matplotlib.pyplot as plt\n",
        "from sklearn.linear_model import LogisticRegression\n",
        "from sklearn.model_selection import train_test_split\n",
        "from sklearn.metrics import mean_absolute_error\n",
        "from sklearn.datasets import make_circles, make_blobs\n",
        "from sklearn.datasets import load_digits, load_breast_cancer\n",
        "from sklearn.metrics import accuracy_score, f1_score, confusion_matrix"
      ],
      "execution_count": 4,
      "outputs": []
    },
    {
      "cell_type": "markdown",
      "metadata": {
        "id": "-JD0EWjOdLaZ"
      },
      "source": [
        "# **Crear nuestros propios datos de entrada**"
      ]
    },
    {
      "cell_type": "code",
      "metadata": {
        "colab": {
          "base_uri": "https://localhost:8080/",
          "height": 316
        },
        "id": "ktZj-WyudKeu",
        "outputId": "595ef931-d1a5-4043-9291-fb44ad38b31e"
      },
      "source": [
        "X, y = make_blobs(n_samples=50, n_features=2, centers=2)\n",
        "\n",
        "plt.figure()\n",
        "plt.scatter(X[:,0],X[:,1],c = y)\n",
        "print(X.shape)\n",
        "print(y)"
      ],
      "execution_count": 10,
      "outputs": [
        {
          "output_type": "stream",
          "text": [
            "(50, 2)\n",
            "[1 1 1 1 0 0 0 1 1 0 1 0 0 0 0 0 1 1 0 1 1 0 0 0 1 0 1 0 0 0 0 0 1 0 1 1 1\n",
            " 0 1 1 0 1 1 1 1 0 0 1 0 1]\n"
          ],
          "name": "stdout"
        },
        {
          "output_type": "display_data",
          "data": {
            "image/png": "[encoded data removed]",
            "text/plain": [
              "<Figure size 432x288 with 1 Axes>"
            ]
          },
          "metadata": {
            "tags": [],
            "needs_background": "light"
          }
        }
      ]
    },
    {
      "cell_type": "code",
      "metadata": {
        "colab": {
          "base_uri": "https://localhost:8080/"
        },
        "id": "aCXGzV2besF1",
        "outputId": "37a72812-b28d-4ce6-9f61-fceeff253e9c"
      },
      "source": [
        "model = LogisticRegression()\n",
        "model.fit(X,y)\n",
        "\n",
        "print(model.coef_)\n",
        "print(model.intercept_)"
      ],
      "execution_count": 14,
      "outputs": [
        {
          "output_type": "stream",
          "text": [
            "[[-0.78689822 -0.98561416]]\n",
            "[6.72422565]\n"
          ],
          "name": "stdout"
        }
      ]
    },
    {
      "cell_type": "code",
      "metadata": {
        "id": "4lF8rhJkfMLA"
      },
      "source": [
        "w0 = model.intercept_\n",
        "w1 = model.coef_[0][0]\n",
        "w2 = model.coef_[0][1]\n",
        "# y = b + mx\n",
        "m = -w1/w2\n",
        "b = -w0/w2"
      ],
      "execution_count": 16,
      "outputs": []
    },
    {
      "cell_type": "code",
      "metadata": {
        "colab": {
          "base_uri": "https://localhost:8080/",
          "height": 265
        },
        "id": "_C32MgTVfr_q",
        "outputId": "92bfab9c-3dfd-4389-c59a-ab937fa3260a"
      },
      "source": [
        "plt.figure()\n",
        "#Dibujamos todas las muestras\n",
        "plt.scatter(X[:,0],X[:,1],c = y)\n",
        "#Dibujamos la recta que segmenta a nuetros datos\n",
        "#Coordenadas de donde inicia y termina mi linea de discriminacion\n",
        "#         X1,Y1     X2        Y2\n",
        "plt.plot([-4,12],[b+(0*m),b+12*m])\n",
        "plt.show()"
      ],
      "execution_count": 21,
      "outputs": [
        {
          "output_type": "display_data",
          "data": {
            "image/png": "[encoded data removed]",
            "text/plain": [
              "<Figure size 432x288 with 1 Axes>"
            ]
          },
          "metadata": {
            "tags": [],
            "needs_background": "light"
          }
        }
      ]
    },
    {
      "cell_type": "markdown",
      "metadata": {
        "id": "QNCIz26yhynE"
      },
      "source": [
        "# **Clasificacion de numeros**"
      ]
    },
    {
      "cell_type": "code",
      "metadata": {
        "colab": {
          "base_uri": "https://localhost:8080/"
        },
        "id": "Gz250jZxh2Ge",
        "outputId": "84e781e6-3924-49d4-9ed2-1620288b90c5"
      },
      "source": [
        "X, Y = load_digits(return_X_y=True)\n",
        "\n",
        "Xtrain, Xtest, ytrain, ytest = train_test_split(X,Y,  test_size = .30,  random_state = 42)\n",
        "print(\"X\",X.shape)\n",
        "print(\"Xtrain\",Xtrain.shape)\n",
        "print(\"Xtest\",Xtest.shape)"
      ],
      "execution_count": 24,
      "outputs": [
        {
          "output_type": "stream",
          "text": [
            "X (1797, 64)\n",
            "Xtrain (1257, 64)\n",
            "Xtest (540, 64)\n"
          ],
          "name": "stdout"
        }
      ]
    },
    {
      "cell_type": "markdown",
      "metadata": {
        "id": "ZBGdz6jXjmDL"
      },
      "source": [
        "ytest = [0,1,2,3,4,5,6,7]\n",
        "Xtest = [imagen0,imagen1,imagen2,.....,imagen7]\n"
      ]
    },
    {
      "cell_type": "code",
      "metadata": {
        "colab": {
          "base_uri": "https://localhost:8080/"
        },
        "id": "pimNnfQgiukq",
        "outputId": "a9389f73-f1e3-4475-926a-c1f5ce13d34b"
      },
      "source": [
        "model = LogisticRegression()\n",
        "model.fit(Xtrain,ytrain)\n",
        "\n",
        "ypred = model.predict(Xtest)\n",
        "\n",
        "print(\"Acc\", accuracy_score(ytest,ypred))\n",
        "print()\n",
        "\n",
        "print(confusion_matrix(ytest,ypred))"
      ],
      "execution_count": 29,
      "outputs": [
        {
          "output_type": "stream",
          "text": [
            "Acc 0.9648148148148148\n",
            "\n",
            "[[53  0  0  0  0  0  0  0  0  0]\n",
            " [ 0 47  1  0  0  0  0  0  2  0]\n",
            " [ 0  1 46  0  0  0  0  0  0  0]\n",
            " [ 0  0  1 52  0  1  0  0  0  0]\n",
            " [ 0  1  0  0 58  0  1  0  0  0]\n",
            " [ 0  1  0  0  0 62  1  1  0  1]\n",
            " [ 0  0  0  0  0  1 52  0  0  0]\n",
            " [ 0  0  0  0  0  1  0 53  0  1]\n",
            " [ 0  0  0  0  0  1  0  0 42  0]\n",
            " [ 0  0  0  1  0  0  0  0  2 56]]\n"
          ],
          "name": "stdout"
        },
        {
          "output_type": "stream",
          "text": [
            "/usr/local/lib/python3.7/dist-packages/sklearn/linear_model/_logistic.py:940: ConvergenceWarning: lbfgs failed to converge (status=1):\n",
            "STOP: TOTAL NO. of ITERATIONS REACHED LIMIT.\n",
            "\n",
            "Increase the number of iterations (max_iter) or scale the data as shown in:\n",
            "    https://scikit-learn.org/stable/modules/preprocessing.html\n",
            "Please also refer to the documentation for alternative solver options:\n",
            "    https://scikit-learn.org/stable/modules/linear_model.html#logistic-regression\n",
            "  extra_warning_msg=_LOGISTIC_SOLVER_CONVERGENCE_MSG)\n"
          ],
          "name": "stderr"
        }
      ]
    },
    {
      "cell_type": "markdown",
      "metadata": {
        "id": "HsyTABCwk-Xb"
      },
      "source": [
        "# **Ejercicio:**\n",
        "\n",
        "Cargar dataset load_breast_cancer y meterlo a una regresion logistica \n",
        ", calcular la accuracy."
      ]
    },
    {
      "cell_type": "markdown",
      "metadata": {
        "id": "0HjL5ozEsUXi"
      },
      "source": [
        "# **Dataset Breast Cancer**"
      ]
    },
    {
      "cell_type": "code",
      "metadata": {
        "colab": {
          "base_uri": "https://localhost:8080/"
        },
        "id": "eGezB5OhsTfu",
        "outputId": "1ebd006d-d4b8-45ec-b7fb-6e12da80ecbd"
      },
      "source": [
        "X_breast,Y_breast = load_breast_cancer(return_X_y=True)\n",
        "Xtrain_breast, Xtest_breast, ytrain_breast, ytest_breast = train_test_split(X_breast,Y_breast, \n",
        "                                                                           test_size = 0.30, random_state = 42)\n",
        "\n",
        "print(\"X\",X_breast.shape)\n",
        "print(\"Xtrain\",Xtrain_breast.shape)\n",
        "print(\"Xtest\",Xtest_breast.shape)"
      ],
      "execution_count": 38,
      "outputs": [
        {
          "output_type": "stream",
          "text": [
            "X (569, 30)\n",
            "Xtrain (398, 30)\n",
            "Xtest (171, 30)\n"
          ],
          "name": "stdout"
        }
      ]
    },
    {
      "cell_type": "code",
      "metadata": {
        "colab": {
          "base_uri": "https://localhost:8080/"
        },
        "id": "5eFx8UsBsqz_",
        "outputId": "202e30d3-0f99-4753-8ee4-6aa0c5b5dfd9"
      },
      "source": [
        "model = LogisticRegression()\n",
        "model.fit(Xtrain_breast,ytrain_breast)\n",
        "prediccion_breast = model.predict(Xtest_breast)\n",
        "print(\"Accuracy\", accuracy_score(ytest_breast,prediccion_breast))\n",
        "probabilidades = np.exp(model.predict_log_proba(Xtest_breast))\n",
        "\n",
        "print(prediccion_breast[:10])\n",
        "print(probabilidades[:10])"
      ],
      "execution_count": 43,
      "outputs": [
        {
          "output_type": "stream",
          "text": [
            "Accuracy 0.9707602339181286\n",
            "[1 0 0 1 1 0 0 0 1 1]\n",
            "[[1.29943632e-01 8.70056368e-01]\n",
            " [9.99999995e-01 4.77203053e-09]\n",
            " [9.93164637e-01 6.83536279e-03]\n",
            " [3.32054967e-03 9.96679450e-01]\n",
            " [1.33694087e-03 9.98663059e-01]\n",
            " [9.99999999e-01 5.52525855e-10]\n",
            " [1.00000000e+00 8.92781363e-13]\n",
            " [9.95520395e-01 4.47960532e-03]\n",
            " [3.79692260e-03 9.96203077e-01]\n",
            " [1.83084371e-02 9.81691563e-01]]\n"
          ],
          "name": "stdout"
        },
        {
          "output_type": "stream",
          "text": [
            "/usr/local/lib/python3.7/dist-packages/sklearn/linear_model/_logistic.py:940: ConvergenceWarning: lbfgs failed to converge (status=1):\n",
            "STOP: TOTAL NO. of ITERATIONS REACHED LIMIT.\n",
            "\n",
            "Increase the number of iterations (max_iter) or scale the data as shown in:\n",
            "    https://scikit-learn.org/stable/modules/preprocessing.html\n",
            "Please also refer to the documentation for alternative solver options:\n",
            "    https://scikit-learn.org/stable/modules/linear_model.html#logistic-regression\n",
            "  extra_warning_msg=_LOGISTIC_SOLVER_CONVERGENCE_MSG)\n"
          ],
          "name": "stderr"
        }
      ]
    },
    {
      "cell_type": "code",
      "metadata": {
        "colab": {
          "base_uri": "https://localhost:8080/"
        },
        "id": "EB1_i0KSuTlT",
        "outputId": "e1c5a470-fc88-41a8-bd6b-89befb097b07"
      },
      "source": [
        "data = load_breast_cancer()\n",
        "\n",
        "print(data.feature_names)"
      ],
      "execution_count": 44,
      "outputs": [
        {
          "output_type": "stream",
          "text": [
            "['mean radius' 'mean texture' 'mean perimeter' 'mean area'\n",
            " 'mean smoothness' 'mean compactness' 'mean concavity'\n",
            " 'mean concave points' 'mean symmetry' 'mean fractal dimension'\n",
            " 'radius error' 'texture error' 'perimeter error' 'area error'\n",
            " 'smoothness error' 'compactness error' 'concavity error'\n",
            " 'concave points error' 'symmetry error' 'fractal dimension error'\n",
            " 'worst radius' 'worst texture' 'worst perimeter' 'worst area'\n",
            " 'worst smoothness' 'worst compactness' 'worst concavity'\n",
            " 'worst concave points' 'worst symmetry' 'worst fractal dimension']\n"
          ],
          "name": "stdout"
        }
      ]
    },
    {
      "cell_type": "code",
      "metadata": {
        "id": "k6KVVDJPvM6w"
      },
      "source": [
        ""
      ],
      "execution_count": null,
      "outputs": []
    }
  ]
}