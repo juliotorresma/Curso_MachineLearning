{
  "nbformat": 4,
  "nbformat_minor": 0,
  "metadata": {
    "colab": {
      "name": "Regresion-Lineal.ipynb",
      "provenance": [],
      "authorship_tag": "ABX9TyP7LqwEe9/69OWrz/rLHCab",
      "include_colab_link": true
    },
    "kernelspec": {
      "name": "python3",
      "display_name": "Python 3"
    },
    "language_info": {
      "name": "python"
    }
  },
  "cells": [
    {
      "cell_type": "markdown",
      "metadata": {
        "id": "view-in-github",
        "colab_type": "text"
      },
      "source": [
        "<a href=\"https://colab.research.google.com/github/juliotorresma/Curso_MachineLearning/blob/main/Practica1-Regresion_Lineal.ipynb\" target=\"_parent\"><img src=\"https://colab.research.google.com/assets/colab-badge.svg\" alt=\"Open In Colab\"/></a>"
      ]
    },
    {
      "cell_type": "code",
      "metadata": {
        "colab": {
          "base_uri": "https://localhost:8080/",
          "height": 269
        },
        "id": "oZSHQtoSn9CS",
        "outputId": "c712be76-d6a8-4412-c98b-878b01a6fd91"
      },
      "source": [
        "import numpy as np\n",
        "import matplotlib.pyplot as plt\n",
        "\n",
        "horas = np.arange(1,12,.25) \n",
        "\n",
        "calificaciones = (9 * horas) + np.random.normal(loc=0,scale=10,size=len(horas))\n",
        "\n",
        "#np.random.normal : Me regresa un numero randon mas probablemente dentro de un rango\n",
        "#indicado.\n",
        "\n",
        "\n",
        "#Crear espacio de proyeccion\n",
        "plt.figure()\n",
        "#Cargamos datos en \"x\" y en \"y\"\n",
        "plt.scatter(horas,calificaciones)\n",
        "#Mostramos\n",
        "plt.show()\n",
        "\n",
        "#Correlacion -1<r<1"
      ],
      "execution_count": 69,
      "outputs": [
        {
          "output_type": "display_data",
          "data": {
            "image/png": "[encoded data removed]",
            "text/plain": [
              "<Figure size 432x288 with 1 Axes>"
            ]
          },
          "metadata": {
            "needs_background": "light"
          }
        }
      ]
    },
    {
      "cell_type": "code",
      "metadata": {
        "colab": {
          "base_uri": "https://localhost:8080/"
        },
        "id": "thA21MV6z_8m",
        "outputId": "98182f80-6e24-45f9-bb6d-05a54ce1c5d0"
      },
      "source": [
        "print(calificaciones.shape)\n",
        "print(horas.shape)\n",
        "print(horas)"
      ],
      "execution_count": 70,
      "outputs": [
        {
          "output_type": "stream",
          "name": "stdout",
          "text": [
            "(44,)\n",
            "(44,)\n",
            "[ 1.    1.25  1.5   1.75  2.    2.25  2.5   2.75  3.    3.25  3.5   3.75\n",
            "  4.    4.25  4.5   4.75  5.    5.25  5.5   5.75  6.    6.25  6.5   6.75\n",
            "  7.    7.25  7.5   7.75  8.    8.25  8.5   8.75  9.    9.25  9.5   9.75\n",
            " 10.   10.25 10.5  10.75 11.   11.25 11.5  11.75]\n"
          ]
        }
      ]
    },
    {
      "cell_type": "code",
      "metadata": {
        "id": "km2m7iiTpkJz",
        "colab": {
          "base_uri": "https://localhost:8080/"
        },
        "outputId": "77e385ec-8e79-4753-eea8-463f1a924727"
      },
      "source": [
        "from sklearn.linear_model import LinearRegression\n",
        "\n",
        "model = LinearRegression()\n",
        "\n",
        "horas = np.reshape(horas,( len(horas) , 1  ))\n",
        "\n",
        "model.fit(horas,calificaciones)\n"
      ],
      "execution_count": 75,
      "outputs": [
        {
          "output_type": "execute_result",
          "data": {
            "text/plain": [
              "LinearRegression(copy_X=True, fit_intercept=True, n_jobs=None, normalize=False)"
            ]
          },
          "metadata": {},
          "execution_count": 75
        }
      ]
    },
    {
      "cell_type": "code",
      "metadata": {
        "colab": {
          "base_uri": "https://localhost:8080/"
        },
        "id": "EYB-xe-M1Xfs",
        "outputId": "b9817333-8e01-44fb-99c9-b627aa671135"
      },
      "source": [
        "print(model.coef_)\n",
        "print(model.intercept_)"
      ],
      "execution_count": 79,
      "outputs": [
        {
          "output_type": "stream",
          "name": "stdout",
          "text": [
            "[10.14292709]\n",
            "-8.273932934309158\n"
          ]
        }
      ]
    },
    {
      "cell_type": "code",
      "metadata": {
        "colab": {
          "base_uri": "https://localhost:8080/",
          "height": 270
        },
        "id": "qkoXKM5F16dv",
        "outputId": "eb449ad4-9782-471a-c341-ddfb9431975c"
      },
      "source": [
        "m = model.coef_\n",
        "b = model.intercept_\n",
        "\n",
        "\n",
        "#Crear espacio de proyeccion\n",
        "plt.figure()\n",
        "#Cargamos datos en \"x\" y en \"y\"\n",
        "plt.scatter(horas,calificaciones)\n",
        "plt.plot([0,12],[(0*m)+b,(12*m)+b],color='red')\n",
        "#         x1.x2    y1,     y2\n",
        "#Mostramos\n",
        "plt.show()\n"
      ],
      "execution_count": 94,
      "outputs": [
        {
          "output_type": "display_data",
          "data": {
            "image/png": "[encoded data removed]",
            "text/plain": [
              "<Figure size 432x288 with 1 Axes>"
            ]
          },
          "metadata": {
            "needs_background": "light"
          }
        }
      ]
    },
    {
      "cell_type": "code",
      "metadata": {
        "colab": {
          "base_uri": "https://localhost:8080/"
        },
        "id": "doRgpKVt5FY2",
        "outputId": "b5d626f3-90ba-406e-f2a2-3bf2d5159430"
      },
      "source": [
        "calificacion_prueba = [7]\n",
        "calificacion_prueba = np.reshape(calificacion_prueba,( len(calificacion_prueba) , 1  ))\n",
        "model.predict(calificacion_prueba)\n"
      ],
      "execution_count": 105,
      "outputs": [
        {
          "output_type": "execute_result",
          "data": {
            "text/plain": [
              "array([62.72655668])"
            ]
          },
          "metadata": {},
          "execution_count": 105
        }
      ]
    },
    {
      "cell_type": "code",
      "metadata": {
        "colab": {
          "base_uri": "https://localhost:8080/"
        },
        "id": "ettJk7-T5uNZ",
        "outputId": "530da6de-5620-4a12-b234-8259c3c80dbe"
      },
      "source": [
        "print((7*m)+b)"
      ],
      "execution_count": 108,
      "outputs": [
        {
          "output_type": "stream",
          "name": "stdout",
          "text": [
            "[62.72655668]\n"
          ]
        }
      ]
    }
  ]
}